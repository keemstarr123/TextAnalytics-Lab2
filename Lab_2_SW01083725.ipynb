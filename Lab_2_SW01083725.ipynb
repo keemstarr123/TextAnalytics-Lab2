{
 "cells": [
  {
   "cell_type": "code",
   "execution_count": 1,
   "id": "39eee0c8-03c5-46ea-b335-2d43cca8ec26",
   "metadata": {},
   "outputs": [],
   "source": [
    "import re"
   ]
  },
  {
   "cell_type": "code",
   "execution_count": 2,
   "id": "fed625df-3978-48a5-827d-d1a8714ba83c",
   "metadata": {},
   "outputs": [
    {
     "name": "stdout",
     "output_type": "stream",
     "text": [
      "<re.Match object; span=(0, 1), match='I'>\n"
     ]
    }
   ],
   "source": [
    "sentence1 = re.match (r'I', 'I am learning text analytics')  \n",
    "print (sentence1) "
   ]
  },
  {
   "cell_type": "code",
   "execution_count": 3,
   "id": "b454fd8c-c57c-4666-8151-0eac5e67424e",
   "metadata": {},
   "outputs": [
    {
     "name": "stdout",
     "output_type": "stream",
     "text": [
      "None\n"
     ]
    }
   ],
   "source": [
    "#using re.match  \n",
    "#to find the first occurrence of the letter 'v' in the string  \n",
    "sentence2 = re.match (r'v', 'I am learning text analytics')  \n",
    "print (sentence2)  "
   ]
  },
  {
   "cell_type": "code",
   "execution_count": 11,
   "id": "5fe1b05a-26c2-4a21-b566-c3d384849d9a",
   "metadata": {},
   "outputs": [
    {
     "name": "stdout",
     "output_type": "stream",
     "text": [
      "<re.Match object; span=(0, 1), match='I'>\n"
     ]
    }
   ],
   "source": [
    "#using re.match  \n",
    "#to find the first occurrence of the letter 'am' in the string  \n",
    "sentence3 = re.match (r'I', 'I am learning text analytics')  \n",
    "print (sentence3) "
   ]
  },
  {
   "cell_type": "code",
   "execution_count": 6,
   "id": "621136bb-77be-4709-b77a-32abb8df4a74",
   "metadata": {},
   "outputs": [
    {
     "name": "stdout",
     "output_type": "stream",
     "text": [
      "<re.Match object; span=(2, 4), match='am'>\n"
     ]
    }
   ],
   "source": [
    "sentence4 = re.search(r'am', 'I am learning text analytics')  \n",
    "print (sentence4)  "
   ]
  },
  {
   "cell_type": "code",
   "execution_count": 13,
   "id": "0d0d1f32-4ee4-45af-8165-b80f2f732c92",
   "metadata": {},
   "outputs": [
    {
     "name": "stdout",
     "output_type": "stream",
     "text": [
      "<re.Match object; span=(2, 4), match='am'>\n"
     ]
    }
   ],
   "source": [
    "sentence5 = re.search(r'am', 'I am learning text analytics and am enjoying it')   \n",
    "print (sentence5) "
   ]
  },
  {
   "cell_type": "code",
   "execution_count": 14,
   "id": "0a8861b6-6ba5-48c5-9ae0-5c188e098209",
   "metadata": {},
   "outputs": [
    {
     "name": "stdout",
     "output_type": "stream",
     "text": [
      "['am', 'am']\n"
     ]
    }
   ],
   "source": [
    "sentence6 = re.findall(r'am', 'I am learning text analytics and am enjoying it')   \n",
    "print (sentence6)  "
   ]
  },
  {
   "cell_type": "code",
   "execution_count": 15,
   "id": "c483c8c7-f098-4b8d-9f00-b54ecf406d58",
   "metadata": {},
   "outputs": [
    {
     "name": "stdout",
     "output_type": "stream",
     "text": [
      "['I am learning text analytics ', ' am enjoying it']\n"
     ]
    }
   ],
   "source": [
    "sentence7 = re.split(r'and', 'I am learning text analytics and am enjoying it')   \n",
    "print (sentence7)  "
   ]
  },
  {
   "cell_type": "code",
   "execution_count": 16,
   "id": "230d11d1-7e07-4d04-bd34-151519275372",
   "metadata": {},
   "outputs": [
    {
     "name": "stdout",
     "output_type": "stream",
     "text": [
      "['I ', ' learning text analytics and ', ' enjoying it']\n"
     ]
    }
   ],
   "source": [
    "sentence8 = re.split(r'am', 'I am learning text analytics and am enjoying it')   \n",
    "print (sentence8)  "
   ]
  },
  {
   "cell_type": "code",
   "execution_count": 18,
   "id": "830872a5-eecc-40dc-8739-87205f4d671b",
   "metadata": {},
   "outputs": [
    {
     "name": "stdout",
     "output_type": "stream",
     "text": [
      "['I ', ' learning text analytics and am enjoying it']\n"
     ]
    }
   ],
   "source": [
    "sentence9 = re.split(r'am', 'I am learning text analytics and am enjoying it', maxsplit=1)  \n",
    "print (sentence9)   "
   ]
  },
  {
   "cell_type": "code",
   "execution_count": 19,
   "id": "e0ac93c2-0376-4a02-89d2-49d0327fefdc",
   "metadata": {},
   "outputs": [
    {
     "name": "stdout",
     "output_type": "stream",
     "text": [
      "['I ', ' learning text analytics and ', ' enjoying it']\n"
     ]
    }
   ],
   "source": [
    "sentence9 = re.split(r'am', 'I am learning text analytics and am enjoying it', maxsplit=2)  \n",
    "print (sentence9)  "
   ]
  },
  {
   "cell_type": "code",
   "execution_count": 20,
   "id": "8063bc20-d3e6-4b04-ba5f-471f99d4f4c0",
   "metadata": {},
   "outputs": [
    {
     "name": "stdout",
     "output_type": "stream",
     "text": [
      "['I ', ' learning text analytics, I ', ' enjoying it and I ', ' going to ace it']\n"
     ]
    }
   ],
   "source": [
    "sentence10 = re.split(r'am', 'I am learning text analytics, I am enjoying it and I am going to ace it', maxsplit=3)  \n",
    "print (sentence10) "
   ]
  },
  {
   "cell_type": "code",
   "execution_count": 21,
   "id": "d489378a-2b4b-4311-9965-f870b419cab1",
   "metadata": {},
   "outputs": [
    {
     "name": "stdout",
     "output_type": "stream",
     "text": [
      "we like text analytics and we enjoy learning it\n"
     ]
    }
   ],
   "source": [
    "sentence11 = re.sub(r'I', 'we', 'I like text analytics and I enjoy learning it')  \n",
    "print (sentence11)  "
   ]
  },
  {
   "cell_type": "code",
   "execution_count": 22,
   "id": "4be13916-025f-4ce3-a407-c1e086c62aab",
   "metadata": {},
   "outputs": [
    {
     "name": "stdout",
     "output_type": "stream",
     "text": [
      "['I', ' ', 'a', 'm', ' ', 'l', 'e', 'a', 'r', 'n', 'i', 'n', 'g', ' ', 't', 'e', 'x', 't', ' ', 'a', 'n', 'a', 'l', 'y', 't', 'i', 'c', 's']\n"
     ]
    }
   ],
   "source": [
    "sentence1 = re.findall (r'.', 'I am learning text analytics')  \n",
    "print (sentence1) "
   ]
  },
  {
   "cell_type": "code",
   "execution_count": 23,
   "id": "d65f7a1c-7a6a-490d-b6cb-301d9449e061",
   "metadata": {},
   "outputs": [
    {
     "name": "stdout",
     "output_type": "stream",
     "text": [
      "['I', 'a', 'm', 'l', 'e', 'a', 'r', 'n', 'i', 'n', 'g', 't', 'e', 'x', 't', 'a', 'n', 'a', 'l', 'y', 't', 'i', 'c', 's']\n"
     ]
    }
   ],
   "source": [
    "sentence2 = re.findall (r'\\w', 'I am learning text analytics') \n",
    "print (sentence2) "
   ]
  },
  {
   "cell_type": "code",
   "execution_count": 24,
   "id": "2f738d91-6a0e-4e3c-9d67-1b3ac6cecedf",
   "metadata": {},
   "outputs": [
    {
     "name": "stdout",
     "output_type": "stream",
     "text": [
      "['I', '', 'am', '', 'learning', '', 'text', '', 'analytics', '']\n"
     ]
    }
   ],
   "source": [
    "sentence3 = re.findall (r'\\w*', 'I am learning text analytics')  \n",
    "print (sentence3)  "
   ]
  },
  {
   "cell_type": "code",
   "execution_count": 25,
   "id": "45cda3b1-459c-4b21-8274-25b0668d12d7",
   "metadata": {},
   "outputs": [
    {
     "name": "stdout",
     "output_type": "stream",
     "text": [
      "['I', 'am', 'learning', 'text', 'analytics']\n"
     ]
    }
   ],
   "source": [
    "sentence4 = re.findall (r'\\w+', 'I am learning text analytics')  \n",
    "print (sentence4)  \n",
    "# Each word is selected excluding spaces  "
   ]
  },
  {
   "cell_type": "code",
   "execution_count": 27,
   "id": "11bac47a-5056-4521-bbc4-0e22c7c18301",
   "metadata": {},
   "outputs": [
    {
     "name": "stdout",
     "output_type": "stream",
     "text": [
      "['I']\n"
     ]
    }
   ],
   "source": [
    "sentence5 = re.findall (r'^\\w+', 'I am learning text analytics')  \n",
    "print (sentence5)  \n",
    "# First word is selected  "
   ]
  },
  {
   "cell_type": "code",
   "execution_count": 28,
   "id": "4602a712-39d1-4f74-8d6f-dbcf1b78733f",
   "metadata": {},
   "outputs": [
    {
     "name": "stdout",
     "output_type": "stream",
     "text": [
      "['analytics']\n"
     ]
    }
   ],
   "source": [
    "sentence6 = re.findall (r'\\w+$', 'I am learning text analytics')  \n",
    "print (sentence6)  \n",
    "# Last word is selected  "
   ]
  },
  {
   "cell_type": "code",
   "execution_count": 29,
   "id": "e806a831-c261-498c-9285-5e7b70fa3adb",
   "metadata": {},
   "outputs": [
    {
     "name": "stdout",
     "output_type": "stream",
     "text": [
      "['am', 'le', 'ar', 'ni', 'ng', 'te', 'xt', 'an', 'al', 'yt', 'ic']\n"
     ]
    }
   ],
   "source": [
    "sentence7 = re.findall (r'\\w\\w', 'I am learning text analytics')  \n",
    "print (sentence7)  \n",
    "# 2 consecutive characters are selected"
   ]
  },
  {
   "cell_type": "code",
   "execution_count": 32,
   "id": "d5ed8056-43d6-42d0-868c-30393b7d0e7a",
   "metadata": {},
   "outputs": [
    {
     "name": "stdout",
     "output_type": "stream",
     "text": [
      "['@text', '@analytics', '@textanalytics']\n"
     ]
    }
   ],
   "source": [
    "sentence9 = re.findall (r'@\\w+', 'user@text.com.my, user@analytics.gov.my, user@textanalytics.edu.my') \n",
    "print (sentence9)  \n",
    "# Only the first word in the domain name is selected  "
   ]
  },
  {
   "cell_type": "code",
   "execution_count": 37,
   "id": "c3591678-22ce-4f5c-951c-ed470d7d7c04",
   "metadata": {},
   "outputs": [
    {
     "name": "stdout",
     "output_type": "stream",
     "text": [
      "['com.my', 'gov.my', 'edu.my']\n"
     ]
    }
   ],
   "source": [
    "# Solution   \n",
    "sentence12 = re.findall (r'@\\w+.(\\w+.\\w+)', r'user@text.com.my, user@analytics.gov.my, user@textanalytics.edu.my')\n",
    "print (sentence12)  \n",
    "# To display the type of domain  "
   ]
  },
  {
   "cell_type": "code",
   "execution_count": 39,
   "id": "b43be27e-42d4-4f8b-b01e-423239be96a0",
   "metadata": {},
   "outputs": [
    {
     "name": "stdout",
     "output_type": "stream",
     "text": [
      "['15-05-20', '20-08-20']\n"
     ]
    }
   ],
   "source": [
    "sentence13 = re.findall (r'\\d{2}-\\d{2}-\\d{2}', 'Ahmad BIT(IS) 15-05-2001, Johnny BCS(SE) 20-08-2000') \n",
    "print (sentence13)  \n",
    "# To display the date in the format of dd-mm-yy  "
   ]
  },
  {
   "cell_type": "code",
   "execution_count": 40,
   "id": "0ab2a462-22a3-46ca-8bf0-888ea8d3d346",
   "metadata": {},
   "outputs": [
    {
     "name": "stdout",
     "output_type": "stream",
     "text": [
      "['15-05-2001', '20-08-2000']\n"
     ]
    }
   ],
   "source": [
    "sentence14 = re.findall (r'\\d{2}-\\d{2}-\\d{4}', 'Ahmad BIT(IS) 15-05-2001, Johnny BCS(SE) 20-08-2000') \n",
    "print (sentence14)  \n",
    "# To display the date in the format of dd-mm-yyyy  "
   ]
  },
  {
   "cell_type": "code",
   "execution_count": 41,
   "id": "e3bb8144-2079-4ef3-b3a9-6a4c2e8f9c43",
   "metadata": {},
   "outputs": [
    {
     "name": "stdout",
     "output_type": "stream",
     "text": [
      "['2001', '2000']\n"
     ]
    }
   ],
   "source": [
    "sentence15 = re.findall (r'\\d{2}-\\d{2}-(\\d{4})', 'Ahmad BIT(IS) 15-05-2001, Johnny BCS(SE) 20-08-2000') \n",
    "print (sentence15)  \n",
    "# Only the year will be displayed "
   ]
  },
  {
   "cell_type": "code",
   "execution_count": 45,
   "id": "ca9a9309-7a87-47df-8e3a-eb62de7794b7",
   "metadata": {},
   "outputs": [
    {
     "name": "stdout",
     "output_type": "stream",
     "text": [
      "['ave', 'eight', 'ory', 'ooks', 'often', 'ead', 'em', 'in', 'afternoon']\n"
     ]
    }
   ],
   "source": [
    "sentence16 = re.findall (r'[aeiouAEIOU]\\w+', 'I have eight story books. I often read them in afternoon') \n",
    "print (sentence16) \n",
    "# A sequence that starts with a vowel followed by one or more characters are selected "
   ]
  },
  {
   "cell_type": "code",
   "execution_count": 46,
   "id": "de77e75d-060d-47fc-b9ae-62ae90047cdb",
   "metadata": {},
   "outputs": [
    {
     "name": "stdout",
     "output_type": "stream",
     "text": [
      "['eight', 'often', 'in', 'afternoon']\n"
     ]
    }
   ],
   "source": [
    "sentence17 = re.findall (r'\\b[aeiouAEIOU]\\w+', 'I have eight story books. I often read them in afternoon') \n",
    "print (sentence17)  \n",
    "# Only words that start with vowels are selected "
   ]
  },
  {
   "cell_type": "code",
   "execution_count": 47,
   "id": "e071e83b-53db-42f7-b3ce-0fc6a165ea43",
   "metadata": {},
   "outputs": [
    {
     "name": "stdout",
     "output_type": "stream",
     "text": [
      "['have', 'story', 'books', 'read', 'them']\n"
     ]
    }
   ],
   "source": [
    "sentence18 = re.findall (r'\\b[^aeiouAEIOU\\s]\\w+', 'I have eight story books. I often read them in afternoon') \n",
    "print (sentence18)  \n",
    "# Only words that start with non-vowels are selected "
   ]
  },
  {
   "cell_type": "code",
   "execution_count": 49,
   "id": "4acafdd1-d942-4361-a286-47e70605322b",
   "metadata": {},
   "outputs": [
    {
     "name": "stdout",
     "output_type": "stream",
     "text": [
      "['I have many story books', ' colouring books', ' I often read them in the afternoon.']\n"
     ]
    }
   ],
   "source": [
    "sentence19 = re.split (r'[;,]', 'I have many story books, colouring books; I often read them in the afternoon.') \n",
    "print (sentence19)  \n",
    "# split the words based on the delimiters semi colon and comma"
   ]
  },
  {
   "cell_type": "code",
   "execution_count": 50,
   "id": "7a2f21d6-00bf-474a-bebe-e7ed26d108aa",
   "metadata": {},
   "outputs": [
    {
     "name": "stdout",
     "output_type": "stream",
     "text": [
      "['I', 'have', 'many', 'story', 'books', '', 'colouring', 'books', '', 'I', 'often', 'read', 'them', 'in', 'the', 'afternoon.']\n"
     ]
    }
   ],
   "source": [
    "sentence20 = re.split (r'[;,\\s]', 'I have many story books, colouring books; I often read them in the afternoon.') \n",
    "print (sentence20) "
   ]
  },
  {
   "cell_type": "code",
   "execution_count": 51,
   "id": "012c1dd0-1b80-40e5-ba1b-96edcb990763",
   "metadata": {},
   "outputs": [
    {
     "name": "stdout",
     "output_type": "stream",
     "text": [
      "I have many story books. colouring books. I often read them in the afternoon.\n"
     ]
    }
   ],
   "source": [
    "sentence21 = re.sub (r'[;,]', '.', 'I have many story books, colouring books; I often read them in the afternoon.') \n",
    "print (sentence21)  "
   ]
  },
  {
   "cell_type": "code",
   "execution_count": 52,
   "id": "d7835f59-a2da-4195-8caf-81de1ff76d42",
   "metadata": {},
   "outputs": [],
   "source": [
    "#Exercise"
   ]
  },
  {
   "cell_type": "code",
   "execution_count": 53,
   "id": "65700b36-50aa-41a7-ab1e-fd35f87c280c",
   "metadata": {},
   "outputs": [
    {
     "name": "stdout",
     "output_type": "stream",
     "text": [
      "Digits found: ['2', '4', '5', '6', '7', '8', '9', '3', '4', '1', '2', '3', '0']\n"
     ]
    }
   ],
   "source": [
    "import re \n",
    "text = \"Order number: 24567, Tracking ID: 8934A12, Quantity: 30\" \n",
    "# Write your regular expression here \n",
    "pattern = r\"\\d\" \n",
    "matches = re.findall(pattern, text) \n",
    "print(\"Digits found:\", matches) "
   ]
  },
  {
   "cell_type": "code",
   "execution_count": 55,
   "id": "04cb192f-d1ac-46eb-8f94-2f9bb19bc92c",
   "metadata": {},
   "outputs": [
    {
     "name": "stdout",
     "output_type": "stream",
     "text": [
      "Non-alphanumeric characters: ['!', ' ', \"'\", ' ', ' ', ' ', '?', ' ', ' ', ' ', '@', ' ', '.']\n"
     ]
    }
   ],
   "source": [
    "text = \"Welcome! How's your day going? Call me @ 3pm.\" \n",
    "pattern = r\"\\W\"\n",
    "matches = re.findall(pattern, text) \n",
    "print(\"Non-alphanumeric characters:\", matches) "
   ]
  },
  {
   "cell_type": "code",
   "execution_count": 56,
   "id": "2940858f-8059-40bf-931a-3cbf8bbee9dd",
   "metadata": {},
   "outputs": [
    {
     "name": "stdout",
     "output_type": "stream",
     "text": [
      "Split text: ['Data Science', ' AI', ' and Machine Learning', ' These fields are growing fast', '']\n"
     ]
    }
   ],
   "source": [
    "text = \"Data Science, AI, and Machine Learning. These fields are growing fast.\" \n",
    "pattern =  r\"[,.]\"\n",
    "split_text = re.split(pattern, text) \n",
    "print(\"Split text:\", split_text) "
   ]
  },
  {
   "cell_type": "code",
   "execution_count": 57,
   "id": "55f3ca68-35d4-40cc-88b0-446465e9b5ff",
   "metadata": {},
   "outputs": [
    {
     "name": "stdout",
     "output_type": "stream",
     "text": [
      "Anonymized text: Contact us at [HIDDEN] or [HIDDEN]\n"
     ]
    }
   ],
   "source": [
    "text = \"Contact us at support@example.com or info@company.org\" \n",
    "pattern = r'\\w+@\\w+.\\w{3}'\n",
    "new_text = re.sub(pattern, \"[HIDDEN]\", text) \n",
    "print(\"Anonymized text:\", new_text) "
   ]
  },
  {
   "cell_type": "code",
   "execution_count": 64,
   "id": "e2a63f00-695b-416e-9a00-2d2751eeeee8",
   "metadata": {},
   "outputs": [
    {
     "name": "stdout",
     "output_type": "stream",
     "text": [
      "Domain types: ['com', 'edu', 'org']\n"
     ]
    }
   ],
   "source": [
    "text = \"Emails: user@gmail.com, admin@university.edu, info@company.org\" \n",
    "pattern = r\"\\.(\\w{3})\"\n",
    "matches = re.findall(pattern, text) \n",
    "print(\"Domain types:\", matches) "
   ]
  },
  {
   "cell_type": "code",
   "execution_count": null,
   "id": "8080463f-bad9-414e-a2e8-14a80b8f957b",
   "metadata": {},
   "outputs": [],
   "source": [
    "!git init\n",
    "!git add Lab_2_SW01083725.ipynb\n",
    "!git commit -m \"submission\"\n",
    "!git branch -M main\n",
    "!git remote set-url origin https://github.com/keemstarr123/TextAnalytics-Lab2 \n"
   ]
  }
 ],
 "metadata": {
  "kernelspec": {
   "display_name": "Python 3 (ipykernel)",
   "language": "python",
   "name": "python3"
  },
  "language_info": {
   "codemirror_mode": {
    "name": "ipython",
    "version": 3
   },
   "file_extension": ".py",
   "mimetype": "text/x-python",
   "name": "python",
   "nbconvert_exporter": "python",
   "pygments_lexer": "ipython3",
   "version": "3.12.7"
  }
 },
 "nbformat": 4,
 "nbformat_minor": 5
}
